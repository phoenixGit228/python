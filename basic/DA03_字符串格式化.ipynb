{
 "cells": [
  {
   "cell_type": "markdown",
   "id": "quality-suggestion",
   "metadata": {},
   "source": [
    "# 字符类型方法"
   ]
  },
  {
   "cell_type": "code",
   "execution_count": 72,
   "id": "massive-lithuania",
   "metadata": {},
   "outputs": [
    {
     "data": {
      "text/plain": [
       "['__add__',\n",
       " '__class__',\n",
       " '__contains__',\n",
       " '__delattr__',\n",
       " '__dir__',\n",
       " '__doc__',\n",
       " '__eq__',\n",
       " '__format__',\n",
       " '__ge__',\n",
       " '__getattribute__',\n",
       " '__getitem__',\n",
       " '__getnewargs__',\n",
       " '__gt__',\n",
       " '__hash__',\n",
       " '__init__',\n",
       " '__init_subclass__',\n",
       " '__iter__',\n",
       " '__le__',\n",
       " '__len__',\n",
       " '__lt__',\n",
       " '__mod__',\n",
       " '__mul__',\n",
       " '__ne__',\n",
       " '__new__',\n",
       " '__reduce__',\n",
       " '__reduce_ex__',\n",
       " '__repr__',\n",
       " '__rmod__',\n",
       " '__rmul__',\n",
       " '__setattr__',\n",
       " '__sizeof__',\n",
       " '__str__',\n",
       " '__subclasshook__',\n",
       " 'capitalize',\n",
       " 'casefold',\n",
       " 'center',\n",
       " 'count',\n",
       " 'encode',\n",
       " 'endswith',\n",
       " 'expandtabs',\n",
       " 'find',\n",
       " 'format',\n",
       " 'format_map',\n",
       " 'index',\n",
       " 'isalnum',\n",
       " 'isalpha',\n",
       " 'isascii',\n",
       " 'isdecimal',\n",
       " 'isdigit',\n",
       " 'isidentifier',\n",
       " 'islower',\n",
       " 'isnumeric',\n",
       " 'isprintable',\n",
       " 'isspace',\n",
       " 'istitle',\n",
       " 'isupper',\n",
       " 'join',\n",
       " 'ljust',\n",
       " 'lower',\n",
       " 'lstrip',\n",
       " 'maketrans',\n",
       " 'partition',\n",
       " 'replace',\n",
       " 'rfind',\n",
       " 'rindex',\n",
       " 'rjust',\n",
       " 'rpartition',\n",
       " 'rsplit',\n",
       " 'rstrip',\n",
       " 'split',\n",
       " 'splitlines',\n",
       " 'startswith',\n",
       " 'strip',\n",
       " 'swapcase',\n",
       " 'title',\n",
       " 'translate',\n",
       " 'upper',\n",
       " 'zfill']"
      ]
     },
     "execution_count": 72,
     "metadata": {},
     "output_type": "execute_result"
    }
   ],
   "source": [
    "dir(str)"
   ]
  },
  {
   "cell_type": "code",
   "execution_count": 1,
   "id": "adjacent-copper",
   "metadata": {
    "scrolled": true
   },
   "outputs": [
    {
     "name": "stdout",
     "output_type": "stream",
     "text": [
      "我爱中国人民万岁\n"
     ]
    }
   ],
   "source": [
    "print(\"我爱中国人民万岁\")"
   ]
  },
  {
   "cell_type": "markdown",
   "id": "surrounded-petite",
   "metadata": {},
   "source": [
    "# 转义字符"
   ]
  },
  {
   "cell_type": "markdown",
   "id": "bizarre-cornell",
   "metadata": {},
   "source": [
    "## 转义字符\\n"
   ]
  },
  {
   "cell_type": "code",
   "execution_count": 3,
   "id": "adolescent-gamma",
   "metadata": {
    "scrolled": false
   },
   "outputs": [
    {
     "name": "stdout",
     "output_type": "stream",
     "text": [
      "我爱中国\n",
      "人民万岁\n"
     ]
    }
   ],
   "source": [
    "print(\"我爱中国\\n人民万岁\")"
   ]
  },
  {
   "cell_type": "markdown",
   "id": "inappropriate-twenty",
   "metadata": {},
   "source": [
    "## 退到行首 \\r"
   ]
  },
  {
   "cell_type": "code",
   "execution_count": 5,
   "id": "average-conclusion",
   "metadata": {
    "scrolled": true
   },
   "outputs": [
    {
     "name": "stdout",
     "output_type": "stream",
     "text": [
      "我爱中国\r",
      "人民万岁\n"
     ]
    }
   ],
   "source": [
    "print(\"我爱中国\\r人民万岁\")"
   ]
  },
  {
   "cell_type": "markdown",
   "id": "mineral-softball",
   "metadata": {},
   "source": [
    "## 退格字符 \\b"
   ]
  },
  {
   "cell_type": "code",
   "execution_count": 7,
   "id": "tutorial-opportunity",
   "metadata": {},
   "outputs": [
    {
     "name": "stdout",
     "output_type": "stream",
     "text": [
      "我爱中国\b\b人民万岁\n"
     ]
    }
   ],
   "source": [
    "print(\"我爱中国\\b\\b人民万岁\")"
   ]
  },
  {
   "cell_type": "markdown",
   "id": "boring-married",
   "metadata": {
    "heading_collapsed": true
   },
   "source": [
    "## 制表符 \\t"
   ]
  },
  {
   "cell_type": "code",
   "execution_count": 60,
   "id": "demographic-relaxation",
   "metadata": {},
   "outputs": [
    {
     "name": "stdout",
     "output_type": "stream",
     "text": [
      "我爱中国\t人民万岁\n"
     ]
    }
   ],
   "source": [
    "print(\"我爱中国\\t人民万岁\")"
   ]
  },
  {
   "cell_type": "markdown",
   "id": "adequate-shopping",
   "metadata": {
    "hidden": true
   },
   "source": [
    "## 防止转义 r"
   ]
  },
  {
   "cell_type": "code",
   "execution_count": 12,
   "id": "worth-embassy",
   "metadata": {
    "hidden": true,
    "scrolled": true
   },
   "outputs": [
    {
     "name": "stdout",
     "output_type": "stream",
     "text": [
      "我爱中国\\t人民万岁\n"
     ]
    }
   ],
   "source": [
    "print(r\"我爱中国\\t人民万岁\")"
   ]
  },
  {
   "cell_type": "markdown",
   "id": "ordered-radius",
   "metadata": {},
   "source": [
    "# 字符串格式化"
   ]
  },
  {
   "cell_type": "markdown",
   "id": "suspended-investigator",
   "metadata": {},
   "source": [
    "## %s 字符串"
   ]
  },
  {
   "cell_type": "code",
   "execution_count": 14,
   "id": "vertical-brain",
   "metadata": {},
   "outputs": [
    {
     "name": "stdout",
     "output_type": "stream",
     "text": [
      "我今年30岁\n"
     ]
    }
   ],
   "source": [
    "print(\"我今年%s岁\" % 30)"
   ]
  },
  {
   "cell_type": "code",
   "execution_count": 15,
   "id": "smaller-endorsement",
   "metadata": {},
   "outputs": [
    {
     "name": "stdout",
     "output_type": "stream",
     "text": [
      "我今年30岁\n"
     ]
    }
   ],
   "source": [
    "age = 30\n",
    "print(\"我今年%s岁\" % age)"
   ]
  },
  {
   "cell_type": "markdown",
   "id": "caroline-buying",
   "metadata": {},
   "source": [
    "## %d 整数"
   ]
  },
  {
   "cell_type": "code",
   "execution_count": 16,
   "id": "czech-injection",
   "metadata": {},
   "outputs": [
    {
     "name": "stdout",
     "output_type": "stream",
     "text": [
      "我今年30岁\n"
     ]
    }
   ],
   "source": [
    "age = 30\n",
    "print(\"我今年%d岁\" % age)"
   ]
  },
  {
   "cell_type": "markdown",
   "id": "postal-credits",
   "metadata": {},
   "source": [
    "## %f 浮点数"
   ]
  },
  {
   "cell_type": "code",
   "execution_count": 18,
   "id": "geological-acrylic",
   "metadata": {},
   "outputs": [
    {
     "name": "stdout",
     "output_type": "stream",
     "text": [
      "今年净利40.40万\n"
     ]
    }
   ],
   "source": [
    "print(\"今年净利%.2f万\" % 40.396)"
   ]
  },
  {
   "cell_type": "markdown",
   "id": "political-monkey",
   "metadata": {},
   "source": [
    "## %e 科学计数"
   ]
  },
  {
   "cell_type": "code",
   "execution_count": 22,
   "id": "public-junction",
   "metadata": {},
   "outputs": [
    {
     "name": "stdout",
     "output_type": "stream",
     "text": [
      "今年实现净利￥4.04e+07\n"
     ]
    }
   ],
   "source": [
    "print(\"今年实现净利￥%.2e\" % 40356925)"
   ]
  },
  {
   "cell_type": "markdown",
   "id": "south-cemetery",
   "metadata": {},
   "source": [
    "## % 多变量输出"
   ]
  },
  {
   "cell_type": "code",
   "execution_count": 27,
   "id": "distinguished-guinea",
   "metadata": {},
   "outputs": [
    {
     "name": "stdout",
     "output_type": "stream",
     "text": [
      "我今年30岁，目前在北京工作10年\n"
     ]
    }
   ],
   "source": [
    "print(\"我今年%s岁，目前在北京工作%s\" % (30, \"10年\"))"
   ]
  },
  {
   "cell_type": "markdown",
   "id": "racial-april",
   "metadata": {},
   "source": [
    "## .format格式输出"
   ]
  },
  {
   "cell_type": "code",
   "execution_count": 37,
   "id": "frank-capitol",
   "metadata": {},
   "outputs": [
    {
     "name": "stdout",
     "output_type": "stream",
     "text": [
      "我今年30.50岁，目前在北京工作10年\n"
     ]
    }
   ],
   "source": [
    "print(\"我今年{:.2f}岁，目前在北京工作{}\" .format(30.5, \"10年\"))"
   ]
  },
  {
   "cell_type": "markdown",
   "id": "unexpected-palestinian",
   "metadata": {},
   "source": [
    "## f-string格式输出"
   ]
  },
  {
   "cell_type": "code",
   "execution_count": 39,
   "id": "photographic-karma",
   "metadata": {},
   "outputs": [
    {
     "name": "stdout",
     "output_type": "stream",
     "text": [
      "我今年30.50岁，目前在北京工作10年\n"
     ]
    }
   ],
   "source": [
    "year = '10年'\n",
    "print(f\"我今年{30.5:.2f}岁，目前在北京工作{year}\" )"
   ]
  },
  {
   "cell_type": "markdown",
   "id": "likely-breathing",
   "metadata": {},
   "source": [
    "# 字符串方法"
   ]
  },
  {
   "cell_type": "code",
   "execution_count": 48,
   "id": "bearing-harvard",
   "metadata": {},
   "outputs": [],
   "source": [
    "f = open(\"houseinfo.txt\",encoding='utf-8')"
   ]
  },
  {
   "cell_type": "markdown",
   "id": "funky-drive",
   "metadata": {},
   "source": [
    "## 读取.read()的多个方法"
   ]
  },
  {
   "cell_type": "markdown",
   "id": "committed-approval",
   "metadata": {},
   "source": [
    "**.read()全部读入为一个字符串**"
   ]
  },
  {
   "cell_type": "code",
   "execution_count": null,
   "id": "faced-trauma",
   "metadata": {},
   "outputs": [],
   "source": [
    "f = open(\"houseinfo.txt\",encoding='utf-8')\n",
    "f_read = f.read() # 全部读入为一个字符串\n",
    "f_read"
   ]
  },
  {
   "cell_type": "markdown",
   "id": "lovely-champion",
   "metadata": {},
   "source": [
    "**.readline() # 读入一行**"
   ]
  },
  {
   "cell_type": "code",
   "execution_count": 93,
   "id": "falling-second",
   "metadata": {
    "scrolled": false
   },
   "outputs": [
    {
     "data": {
      "text/plain": [
       "'IP:PORT\\t匿名度\\t类型\\tIP归属地\\t运营商\\t响应速度\\t最后验证时间\\t存活时间\\n'"
      ]
     },
     "execution_count": 93,
     "metadata": {},
     "output_type": "execute_result"
    }
   ],
   "source": [
    "f = open(\"houseinfo.txt\",encoding='utf-8')\n",
    "f_read = f.readline() # 读入一行\n",
    "f_read"
   ]
  },
  {
   "cell_type": "code",
   "execution_count": 95,
   "id": "agreed-furniture",
   "metadata": {
    "scrolled": true
   },
   "outputs": [
    {
     "data": {
      "text/plain": [
       "'175.146.213.245:9999\\t高匿\\thttps\\t中国   辽宁省   营口市\\t联通\\t0.343 秒\\t4分钟前\\t新入库\\n'"
      ]
     },
     "execution_count": 95,
     "metadata": {},
     "output_type": "execute_result"
    }
   ],
   "source": [
    "f_read = f.readline() # 再次使用，读入第二行\n",
    "f_read"
   ]
  },
  {
   "cell_type": "code",
   "execution_count": 97,
   "id": "inside-retreat",
   "metadata": {},
   "outputs": [
    {
     "data": {
      "text/plain": [
       "'113.124.92.57:9999\\t高匿\\thttps\\t中国   山东省   烟台市\\t电信\\t1.866 秒\\t4分钟前\\t新入库\\n'"
      ]
     },
     "execution_count": 97,
     "metadata": {},
     "output_type": "execute_result"
    }
   ],
   "source": [
    "f_read = f.readline() # 再次使用，再次读入三行\n",
    "f_read"
   ]
  },
  {
   "cell_type": "markdown",
   "id": "excess-midwest",
   "metadata": {},
   "source": [
    "**.readlines() # 全部读入为一个列表，每行转为一个列表元素**"
   ]
  },
  {
   "cell_type": "code",
   "execution_count": 42,
   "id": "entitled-wings",
   "metadata": {
    "scrolled": true
   },
   "outputs": [],
   "source": [
    "f = open(\"houseinfo.txt\",encoding='utf-8')\n",
    "f_read = f.readlines() # 全部读入为一个列表，每行转为一个列表元素"
   ]
  },
  {
   "cell_type": "markdown",
   "id": "beautiful-chance",
   "metadata": {},
   "source": [
    "## 去除多余字符.strip()\n",
    "去除两端多余字符，类似的还有`.lstrip()`左边字符, `.rstrip()`右边字符"
   ]
  },
  {
   "cell_type": "code",
   "execution_count": 45,
   "id": "ignored-coordinate",
   "metadata": {},
   "outputs": [
    {
     "data": {
      "text/plain": [
       "'175.44.108.254:9999\\t高匿\\thttp\\t中国   福建省   南平市\\t联通\\t0.56 秒\\t4分钟前\\t新入库'"
      ]
     },
     "execution_count": 45,
     "metadata": {},
     "output_type": "execute_result"
    }
   ],
   "source": [
    "s = f_read[1].strip()\n",
    "s"
   ]
  },
  {
   "cell_type": "markdown",
   "id": "revolutionary-jacksonville",
   "metadata": {},
   "source": [
    "## 字符串变为列表  .split()"
   ]
  },
  {
   "cell_type": "code",
   "execution_count": 43,
   "id": "armed-search",
   "metadata": {},
   "outputs": [
    {
     "data": {
      "text/plain": [
       "['175.44.108.254:9999',\n",
       " '高匿',\n",
       " 'http',\n",
       " '中国   福建省   南平市',\n",
       " '联通',\n",
       " '0.56 秒',\n",
       " '4分钟前',\n",
       " '新入库']"
      ]
     },
     "execution_count": 43,
     "metadata": {},
     "output_type": "execute_result"
    }
   ],
   "source": [
    "s = f_read[1].strip().split('\\t')\n",
    "s"
   ]
  },
  {
   "cell_type": "code",
   "execution_count": 17,
   "id": "tight-spokesman",
   "metadata": {},
   "outputs": [
    {
     "data": {
      "text/plain": [
       "'175.44.108.254:9999'"
      ]
     },
     "execution_count": 17,
     "metadata": {},
     "output_type": "execute_result"
    }
   ],
   "source": [
    "data = s[0]\n",
    "data"
   ]
  },
  {
   "cell_type": "markdown",
   "id": "drawn-listing",
   "metadata": {},
   "source": [
    "## 寻找字符.find() .index()区别"
   ]
  },
  {
   "cell_type": "markdown",
   "id": "armed-feedback",
   "metadata": {},
   "source": [
    "**.find() # 如果找到，返回位置；否则，返回-1**"
   ]
  },
  {
   "cell_type": "code",
   "execution_count": 18,
   "id": "intimate-notification",
   "metadata": {
    "scrolled": true
   },
   "outputs": [
    {
     "data": {
      "text/plain": [
       "15"
      ]
     },
     "execution_count": 18,
     "metadata": {},
     "output_type": "execute_result"
    }
   ],
   "source": [
    "data.find('9999')"
   ]
  },
  {
   "cell_type": "code",
   "execution_count": 20,
   "id": "optional-patrol",
   "metadata": {},
   "outputs": [
    {
     "data": {
      "text/plain": [
       "-1"
      ]
     },
     "execution_count": 20,
     "metadata": {},
     "output_type": "execute_result"
    }
   ],
   "source": [
    "data.find('456')"
   ]
  },
  {
   "cell_type": "markdown",
   "id": "sixth-tattoo",
   "metadata": {},
   "source": [
    "**.index() #如果找到，返回位置；否则报错**"
   ]
  },
  {
   "cell_type": "code",
   "execution_count": 19,
   "id": "boolean-messenger",
   "metadata": {},
   "outputs": [
    {
     "data": {
      "text/plain": [
       "15"
      ]
     },
     "execution_count": 19,
     "metadata": {},
     "output_type": "execute_result"
    }
   ],
   "source": [
    "data.index('9999')"
   ]
  },
  {
   "cell_type": "code",
   "execution_count": 21,
   "id": "indian-cameroon",
   "metadata": {},
   "outputs": [
    {
     "ename": "ValueError",
     "evalue": "substring not found",
     "output_type": "error",
     "traceback": [
      "\u001b[1;31m---------------------------------------------------------------------------\u001b[0m",
      "\u001b[1;31mValueError\u001b[0m                                Traceback (most recent call last)",
      "\u001b[1;32m<ipython-input-21-519e1c1fecc4>\u001b[0m in \u001b[0;36m<module>\u001b[1;34m\u001b[0m\n\u001b[1;32m----> 1\u001b[1;33m \u001b[0mdata\u001b[0m\u001b[1;33m.\u001b[0m\u001b[0mindex\u001b[0m\u001b[1;33m(\u001b[0m\u001b[1;34m'456'\u001b[0m\u001b[1;33m)\u001b[0m\u001b[1;33m\u001b[0m\u001b[1;33m\u001b[0m\u001b[0m\n\u001b[0m",
      "\u001b[1;31mValueError\u001b[0m: substring not found"
     ]
    }
   ],
   "source": [
    "data.index('456')"
   ]
  },
  {
   "cell_type": "markdown",
   "id": "alien-finder",
   "metadata": {},
   "source": [
    "## 修改大小写.lower() .upper() .capitalize()"
   ]
  },
  {
   "cell_type": "code",
   "execution_count": 98,
   "id": "robust-premiere",
   "metadata": {},
   "outputs": [],
   "source": [
    "string_a = \"This is Me\""
   ]
  },
  {
   "cell_type": "code",
   "execution_count": 30,
   "id": "developing-ensemble",
   "metadata": {},
   "outputs": [
    {
     "data": {
      "text/plain": [
       "'this is me'"
      ]
     },
     "execution_count": 30,
     "metadata": {},
     "output_type": "execute_result"
    }
   ],
   "source": [
    "string_a.lower() # 全部小写"
   ]
  },
  {
   "cell_type": "code",
   "execution_count": 102,
   "id": "marine-sleeping",
   "metadata": {},
   "outputs": [
    {
     "data": {
      "text/plain": [
       "'this is me'"
      ]
     },
     "execution_count": 102,
     "metadata": {},
     "output_type": "execute_result"
    }
   ],
   "source": [
    "string_a.casefold() # 全部转为小写，比lower()更彻底，其他语言可能有区别"
   ]
  },
  {
   "cell_type": "code",
   "execution_count": 31,
   "id": "dutch-replication",
   "metadata": {},
   "outputs": [
    {
     "data": {
      "text/plain": [
       "'THIS IS ME'"
      ]
     },
     "execution_count": 31,
     "metadata": {},
     "output_type": "execute_result"
    }
   ],
   "source": [
    "string_a.upper() # 全部大写"
   ]
  },
  {
   "cell_type": "code",
   "execution_count": 32,
   "id": "square-corps",
   "metadata": {},
   "outputs": [
    {
     "data": {
      "text/plain": [
       "'This is me'"
      ]
     },
     "execution_count": 32,
     "metadata": {},
     "output_type": "execute_result"
    }
   ],
   "source": [
    "string_a.capitalize() # 首字母大写"
   ]
  },
  {
   "cell_type": "code",
   "execution_count": 76,
   "id": "conventional-december",
   "metadata": {
    "scrolled": false
   },
   "outputs": [
    {
     "data": {
      "text/plain": [
       "'This Is Me'"
      ]
     },
     "execution_count": 76,
     "metadata": {},
     "output_type": "execute_result"
    }
   ],
   "source": [
    "string_a.title() # 每个单词首字母大写"
   ]
  },
  {
   "cell_type": "code",
   "execution_count": 78,
   "id": "weekly-blake",
   "metadata": {},
   "outputs": [
    {
     "data": {
      "text/plain": [
       "'tHIS IS mE'"
      ]
     },
     "execution_count": 78,
     "metadata": {},
     "output_type": "execute_result"
    }
   ],
   "source": [
    "string_a.swapcase() # 字符串字符大小写互换"
   ]
  },
  {
   "cell_type": "code",
   "execution_count": 82,
   "id": "phantom-tattoo",
   "metadata": {
    "scrolled": true
   },
   "outputs": [
    {
     "data": {
      "text/plain": [
       "'我爱你中国i LOVE YOU cHINA'"
      ]
     },
     "execution_count": 82,
     "metadata": {},
     "output_type": "execute_result"
    }
   ],
   "source": [
    "str_b = '我爱你中国I love you China'\n",
    "str_b.swapcase() # 只对英文字符有效，如果是其他字符，保持原状"
   ]
  },
  {
   "cell_type": "markdown",
   "id": "median-penetration",
   "metadata": {},
   "source": [
    "## 拼接元素.join()"
   ]
  },
  {
   "cell_type": "code",
   "execution_count": 38,
   "id": "signed-logistics",
   "metadata": {},
   "outputs": [
    {
     "data": {
      "text/plain": [
       "['This', 'is', 'me']"
      ]
     },
     "execution_count": 38,
     "metadata": {},
     "output_type": "execute_result"
    }
   ],
   "source": [
    "string_a = \"This is me\"\n",
    "string_a= string_a.split(\" \")\n",
    "string_a"
   ]
  },
  {
   "cell_type": "code",
   "execution_count": 39,
   "id": "virgin-wellington",
   "metadata": {},
   "outputs": [
    {
     "data": {
      "text/plain": [
       "'Thisisme'"
      ]
     },
     "execution_count": 39,
     "metadata": {},
     "output_type": "execute_result"
    }
   ],
   "source": [
    "\"\".join(string_a) # 拼接列表元素"
   ]
  },
  {
   "cell_type": "markdown",
   "id": "ahead-bumper",
   "metadata": {},
   "source": [
    "## 替换.replace()"
   ]
  },
  {
   "cell_type": "code",
   "execution_count": 41,
   "id": "supported-squad",
   "metadata": {
    "scrolled": true
   },
   "outputs": [
    {
     "data": {
      "text/plain": [
       "'Thisisme'"
      ]
     },
     "execution_count": 41,
     "metadata": {},
     "output_type": "execute_result"
    }
   ],
   "source": [
    "string_a = \"This is me\"\n",
    "string_a.replace(\" \",\"\")"
   ]
  },
  {
   "cell_type": "markdown",
   "id": "exceptional-albuquerque",
   "metadata": {},
   "source": [
    "## 其他方法"
   ]
  },
  {
   "cell_type": "code",
   "execution_count": 55,
   "id": "saving-forge",
   "metadata": {},
   "outputs": [],
   "source": [
    "# .isdigit() 判断是否为数字"
   ]
  },
  {
   "cell_type": "code",
   "execution_count": 47,
   "id": "played-advice",
   "metadata": {},
   "outputs": [
    {
     "data": {
      "text/plain": [
       "False"
      ]
     },
     "execution_count": 47,
     "metadata": {},
     "output_type": "execute_result"
    }
   ],
   "source": [
    "str_a = '220.12.12.35'\n",
    "str_a.isdigit()"
   ]
  },
  {
   "cell_type": "code",
   "execution_count": 59,
   "id": "available-minnesota",
   "metadata": {},
   "outputs": [
    {
     "data": {
      "text/plain": [
       "True"
      ]
     },
     "execution_count": 59,
     "metadata": {},
     "output_type": "execute_result"
    }
   ],
   "source": [
    "str_a = '220.12.12.35'\n",
    "str_a.replace('.','').isdigit()"
   ]
  },
  {
   "cell_type": "code",
   "execution_count": 56,
   "id": "raising-texas",
   "metadata": {},
   "outputs": [],
   "source": [
    "# .isnumeric() 判断是否为数值类型"
   ]
  },
  {
   "cell_type": "code",
   "execution_count": 60,
   "id": "cellular-florence",
   "metadata": {},
   "outputs": [
    {
     "data": {
      "text/plain": [
       "True"
      ]
     },
     "execution_count": 60,
     "metadata": {},
     "output_type": "execute_result"
    }
   ],
   "source": [
    "str_a = '220.12.12.35'\n",
    "str_a.replace('.','').isnumeric()"
   ]
  },
  {
   "cell_type": "code",
   "execution_count": 51,
   "id": "sharing-singles",
   "metadata": {},
   "outputs": [
    {
     "data": {
      "text/plain": [
       "True"
      ]
     },
     "execution_count": 51,
     "metadata": {},
     "output_type": "execute_result"
    }
   ],
   "source": [
    "str_b = '一二三四五六七八九十'\n",
    "str_b.isnumeric()"
   ]
  },
  {
   "cell_type": "code",
   "execution_count": 61,
   "id": "instrumental-recruitment",
   "metadata": {},
   "outputs": [
    {
     "data": {
      "text/plain": [
       "False"
      ]
     },
     "execution_count": 61,
     "metadata": {},
     "output_type": "execute_result"
    }
   ],
   "source": [
    "str_b = 'one'\n",
    "str_b.isnumeric()"
   ]
  },
  {
   "cell_type": "code",
   "execution_count": 84,
   "id": "creative-ready",
   "metadata": {},
   "outputs": [],
   "source": [
    "# isalnum()"
   ]
  },
  {
   "cell_type": "code",
   "execution_count": 85,
   "id": "employed-genre",
   "metadata": {},
   "outputs": [
    {
     "data": {
      "text/plain": [
       "True"
      ]
     },
     "execution_count": 85,
     "metadata": {},
     "output_type": "execute_result"
    }
   ],
   "source": [
    "str_c = '13412314521'\n",
    "str_c.isalnum()"
   ]
  },
  {
   "cell_type": "code",
   "execution_count": 62,
   "id": "republican-quebec",
   "metadata": {},
   "outputs": [],
   "source": [
    "# startswith() 以什么开头"
   ]
  },
  {
   "cell_type": "code",
   "execution_count": 63,
   "id": "settled-running",
   "metadata": {},
   "outputs": [
    {
     "data": {
      "text/plain": [
       "True"
      ]
     },
     "execution_count": 63,
     "metadata": {},
     "output_type": "execute_result"
    }
   ],
   "source": [
    "str_c = '13412314521'\n",
    "str_c.startswith('13')"
   ]
  },
  {
   "cell_type": "code",
   "execution_count": 64,
   "id": "dense-seventh",
   "metadata": {},
   "outputs": [],
   "source": [
    "# endswith() 以什么结尾"
   ]
  },
  {
   "cell_type": "code",
   "execution_count": 70,
   "id": "dominican-collector",
   "metadata": {},
   "outputs": [
    {
     "name": "stdout",
     "output_type": "stream",
     "text": [
      "京AAD352,明天限行\n"
     ]
    }
   ],
   "source": [
    "str_c = ['京AAD352','京NQ8535']\n",
    "for i in str_c:\n",
    "    if i.endswith('2'):\n",
    "        print(f'{i},明天限行')"
   ]
  },
  {
   "cell_type": "code",
   "execution_count": 87,
   "id": "written-mileage",
   "metadata": {},
   "outputs": [],
   "source": [
    "# .count() 统计"
   ]
  },
  {
   "cell_type": "code",
   "execution_count": 88,
   "id": "thirty-biology",
   "metadata": {},
   "outputs": [
    {
     "data": {
      "text/plain": [
       "4"
      ]
     },
     "execution_count": 88,
     "metadata": {},
     "output_type": "execute_result"
    }
   ],
   "source": [
    "str_c = '13412314521'\n",
    "str_c.count('1')"
   ]
  },
  {
   "cell_type": "code",
   "execution_count": 109,
   "id": "specific-scratch",
   "metadata": {},
   "outputs": [],
   "source": [
    "# .center(width)\n",
    "# 中间为宽度，大于字符串长度，两端以空格不全；小于字符串宽度，返回原字符串"
   ]
  },
  {
   "cell_type": "code",
   "execution_count": 110,
   "id": "coupled-things",
   "metadata": {},
   "outputs": [
    {
     "data": {
      "text/plain": [
       "'   13412314521    '"
      ]
     },
     "execution_count": 110,
     "metadata": {},
     "output_type": "execute_result"
    }
   ],
   "source": [
    "str_c.center(18) "
   ]
  },
  {
   "cell_type": "code",
   "execution_count": 107,
   "id": "regulation-infection",
   "metadata": {},
   "outputs": [
    {
     "data": {
      "text/plain": [
       "'13412314521'"
      ]
     },
     "execution_count": 107,
     "metadata": {},
     "output_type": "execute_result"
    }
   ],
   "source": [
    "str_c.center(1)"
   ]
  },
  {
   "cell_type": "code",
   "execution_count": null,
   "id": "infinite-commerce",
   "metadata": {},
   "outputs": [],
   "source": []
  }
 ],
 "metadata": {
  "kernelspec": {
   "display_name": "Python 3",
   "language": "python",
   "name": "python3"
  },
  "language_info": {
   "codemirror_mode": {
    "name": "ipython",
    "version": 3
   },
   "file_extension": ".py",
   "mimetype": "text/x-python",
   "name": "python",
   "nbconvert_exporter": "python",
   "pygments_lexer": "ipython3",
   "version": "3.8.5"
  },
  "latex_envs": {
   "LaTeX_envs_menu_present": true,
   "autoclose": false,
   "autocomplete": false,
   "bibliofile": "biblio.bib",
   "cite_by": "apalike",
   "current_citInitial": 1,
   "eqLabelWithNumbers": true,
   "eqNumInitial": 1,
   "hotkeys": {
    "equation": "Ctrl-E",
    "itemize": "Ctrl-I"
   },
   "labels_anchors": false,
   "latex_user_defs": false,
   "report_style_numbering": false,
   "user_envs_cfg": false
  },
  "toc": {
   "base_numbering": 1,
   "nav_menu": {},
   "number_sections": true,
   "sideBar": true,
   "skip_h1_title": false,
   "title_cell": "Table of Contents",
   "title_sidebar": "Contents",
   "toc_cell": false,
   "toc_position": {
    "height": "calc(100% - 180px)",
    "left": "10px",
    "top": "150px",
    "width": "185.594px"
   },
   "toc_section_display": true,
   "toc_window_display": true
  }
 },
 "nbformat": 4,
 "nbformat_minor": 5
}
