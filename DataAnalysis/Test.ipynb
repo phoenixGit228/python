{
 "cells": [
  {
   "cell_type": "code",
   "execution_count": 1,
   "id": "effective-dependence",
   "metadata": {},
   "outputs": [
    {
     "name": "stdout",
     "output_type": "stream",
     "text": [
      "0\n",
      "2\n",
      "4\n",
      "6\n",
      "8\n",
      "20\n"
     ]
    }
   ],
   "source": [
    "sum = 0\n",
    "for x in range(0, 10, 2):\n",
    "    print(x)\n",
    "    sum += x\n",
    "print(sum)"
   ]
  },
  {
   "cell_type": "code",
   "execution_count": 3,
   "id": "solar-organization",
   "metadata": {},
   "outputs": [
    {
     "name": "stdout",
     "output_type": "stream",
     "text": [
      "outer index i: 0, inner index j: 0\n",
      "outer index i: 0, inner index j: 1\n",
      "outer index i: 0, inner index j: 2\n",
      "outer index i: 1, inner index j: 0\n",
      "outer index i: 1, inner index j: 1\n",
      "outer index i: 1, inner index j: 2\n"
     ]
    }
   ],
   "source": [
    "for i in range(2):\n",
    "    for j in range(3):\n",
    "        print(\"outer index i: {}, inner index j: {}\".format(i, j))"
   ]
  },
  {
   "cell_type": "code",
   "execution_count": 4,
   "id": "assumed-gospel",
   "metadata": {},
   "outputs": [
    {
     "name": "stdout",
     "output_type": "stream",
     "text": [
      "36\n"
     ]
    }
   ],
   "source": [
    "limit = 40\n",
    "num = 0\n",
    "while (num + 1) ** 2 < limit:\n",
    "    num += 1\n",
    "\n",
    "nearest_square = num ** 2\n",
    "print(nearest_square)"
   ]
  },
  {
   "cell_type": "code",
   "execution_count": 5,
   "id": "hungry-paris",
   "metadata": {},
   "outputs": [
    {
     "name": "stdout",
     "output_type": "stream",
     "text": [
      "http://yun.aura.om"
     ]
    }
   ],
   "source": [
    "website = \"http://yun.aura.com\"\n",
    "for x in website:\n",
    "    if x == 'c':\n",
    "        continue\n",
    "    print(x, end='')"
   ]
  },
  {
   "cell_type": "code",
   "execution_count": 6,
   "id": "strange-radical",
   "metadata": {},
   "outputs": [
    {
     "name": "stdout",
     "output_type": "stream",
     "text": [
      "http://yun.aura.com"
     ]
    }
   ],
   "source": [
    "website = \"http://yun.aura.com\"\n",
    "for x in website:\n",
    "    print(x, end='')\n",
    "    continue\n",
    "    # if x == 'c':"
   ]
  },
  {
   "cell_type": "code",
   "execution_count": 8,
   "id": "binary-facial",
   "metadata": {},
   "outputs": [
    {
     "name": "stdout",
     "output_type": "stream",
     "text": [
      "1004是闰年\n",
      "1008是闰年\n",
      "1012是闰年\n",
      "1016是闰年\n",
      "1020是闰年\n",
      "1024是闰年\n",
      "1028是闰年\n",
      "1032是闰年\n",
      "1036是闰年\n",
      "1040是闰年\n",
      "1044是闰年\n",
      "1048是闰年\n"
     ]
    }
   ],
   "source": [
    "for num in range(1000, 1050):\n",
    "    if (num % 4 == 0 and num % 100 != 0) or num % 400 == 0:\n",
    "        print(f'{num}是闰年')"
   ]
  },
  {
   "cell_type": "code",
   "execution_count": 9,
   "id": "heavy-package",
   "metadata": {},
   "outputs": [
    {
     "name": "stdout",
     "output_type": "stream",
     "text": [
      "282.7431\n",
      "785.3975\n"
     ]
    }
   ],
   "source": [
    "def cylinder_volume(height, radius=5):\n",
    "    pi = 3.14159\n",
    "    return height * pi * radius ** 2\n",
    "\n",
    "\n",
    "print(cylinder_volume(10, 3))\n",
    "print(cylinder_volume(10))"
   ]
  },
  {
   "cell_type": "code",
   "execution_count": 10,
   "id": "alert-actor",
   "metadata": {},
   "outputs": [
    {
     "name": "stdout",
     "output_type": "stream",
     "text": [
      "please input an integer:3\n",
      "6\n"
     ]
    }
   ],
   "source": [
    "# 阶乘 5！=5*4*3*2*1\n",
    "\n",
    "\n",
    "def myfac(n):\n",
    "    if n == 1:\n",
    "        return 1\n",
    "    else:\n",
    "        return n * myfac(n - 1)\n",
    "\n",
    "\n",
    "num = int(input('please input an integer:'))\n",
    "print(myfac(num))\n"
   ]
  },
  {
   "cell_type": "code",
   "execution_count": 11,
   "id": "sticky-lawyer",
   "metadata": {},
   "outputs": [
    {
     "name": "stdout",
     "output_type": "stream",
     "text": [
      "# # dict_value = ď˝\"Wuhan\":[10000,rising],\"Beijing\":[2000,dec],......ď˝\n",
      "# dict1 = {1: 1000, 2: 2000, 3: 3000}\n",
      "# # print(dict1[1])\n",
      "# # print(dir(dict))\n",
      "# # print(dir(list))\n",
      "# # print(dir(tuple))\n",
      "# print(dir(set))\n",
      "\n",
      "\n",
      "# 第四题\n",
      "# 第一种方法\n",
      "size = int(input('please input your array size: '))\n",
      "arr = []\n",
      "for x in range(size):\n",
      "    num = int(input(f'please input number array[{x}]: '))\n",
      "    arr.append(num)\n",
      "print('数组修改前：')\n",
      "print(arr)\n",
      "max_num = arr[0]\n",
      "max_index = 0\n",
      "for i in range(len(arr)):\n",
      "    if max_num <= arr[i]:\n",
      "        max_index = i\n",
      "print(max_index)\n",
      "arr[0], arr[max_index] = arr[max_index], arr[0]\n",
      "print(arr)\n",
      "\n",
      "min_num = arr[0]\n",
      "min_index = 0\n",
      "for i in range(len(arr)):\n",
      "    if min_num >= arr[i]:\n",
      "        min_index = i\n",
      "print(min_index)\n",
      "arr[-1], arr[min_index] = arr[min_index], arr[-1]\n",
      "\n",
      "print('数组修改后：')\n",
      "print(arr)\n",
      "\n",
      "# 第二种方法\n",
      "\n",
      "\n",
      "size = int(input('please input your array size: '))\n",
      "arr = []\n",
      "for x in range(size):\n",
      "    num = int(input(f'please input number array[{x}]: '))\n",
      "    arr.append(num)\n",
      "\n",
      "print('数组修改前：')\n",
      "print(arr)\n",
      "max_num = max(arr)\n",
      "max_index = arr.index(max_num)\n",
      "arr[0], arr[max_index] = arr[max_index], arr[0]\n",
      "min_num = min(arr)\n",
      "min_index = arr.index(min_num)\n",
      "arr[-1], arr[min_index] = arr[min_index], arr[-1]\n",
      "print('数组修改后：')\n",
      "print(arr)\n",
      "\n"
     ]
    }
   ],
   "source": [
    "fd = open('./demo.py', 'r', encoding='utf-8')\n",
    "print(fd.read())\n",
    "fd.close()"
   ]
  },
  {
   "cell_type": "code",
   "execution_count": 12,
   "id": "structural-louisville",
   "metadata": {},
   "outputs": [
    {
     "name": "stdout",
     "output_type": "stream",
     "text": [
      "# # dict_value = ď˝\"Wuhan\":[10000,rising],\"Beijing\":[2000,dec],......ď˝\n",
      "\n",
      "# dict1 = {1: 1000, 2: 2000, 3: 3000}\n",
      "\n"
     ]
    }
   ],
   "source": [
    "fd = open('./demo.py', 'r', encoding='utf-8')\n",
    "print(fd.readline())\n",
    "print(fd.readline())\n",
    "fd.close()"
   ]
  },
  {
   "cell_type": "code",
   "execution_count": 13,
   "id": "behavioral-nashville",
   "metadata": {},
   "outputs": [],
   "source": [
    "fd = open('./test.txt', 'w')\n",
    "fd.write('hello world')\n",
    "fd.close()"
   ]
  },
  {
   "cell_type": "code",
   "execution_count": 14,
   "id": "sacred-burning",
   "metadata": {},
   "outputs": [],
   "source": [
    "with open('./test.txt', 'w') as fd:\n",
    "    fd.write('hello world')"
   ]
  },
  {
   "cell_type": "code",
   "execution_count": null,
   "id": "passing-sucking",
   "metadata": {},
   "outputs": [],
   "source": []
  }
 ],
 "metadata": {
  "kernelspec": {
   "display_name": "Python 3",
   "language": "python",
   "name": "python3"
  },
  "language_info": {
   "codemirror_mode": {
    "name": "ipython",
    "version": 3
   },
   "file_extension": ".py",
   "mimetype": "text/x-python",
   "name": "python",
   "nbconvert_exporter": "python",
   "pygments_lexer": "ipython3",
   "version": "3.8.5"
  },
  "latex_envs": {
   "LaTeX_envs_menu_present": true,
   "autoclose": false,
   "autocomplete": false,
   "bibliofile": "biblio.bib",
   "cite_by": "apalike",
   "current_citInitial": 1,
   "eqLabelWithNumbers": true,
   "eqNumInitial": 1,
   "hotkeys": {
    "equation": "Ctrl-E",
    "itemize": "Ctrl-I"
   },
   "labels_anchors": false,
   "latex_user_defs": false,
   "report_style_numbering": false,
   "user_envs_cfg": false
  }
 },
 "nbformat": 4,
 "nbformat_minor": 5
}
