{
 "cells": [
  {
   "cell_type": "code",
   "execution_count": 2,
   "metadata": {},
   "outputs": [],
   "source": [
    "import json"
   ]
  },
  {
   "cell_type": "code",
   "execution_count": 3,
   "metadata": {},
   "outputs": [
    {
     "data": {
      "text/plain": [
       "str"
      ]
     },
     "execution_count": 3,
     "metadata": {},
     "output_type": "execute_result"
    }
   ],
   "source": [
    "with open('cookie.json',mode='r',encoding='utf-8') as f:\n",
    "    f_read = f.read()\n",
    "    \n",
    "type(f_read)"
   ]
  },
  {
   "cell_type": "code",
   "execution_count": 4,
   "metadata": {},
   "outputs": [],
   "source": [
    "data = json.loads(f_read)"
   ]
  },
  {
   "cell_type": "code",
   "execution_count": 5,
   "metadata": {},
   "outputs": [
    {
     "data": {
      "text/plain": [
       "list"
      ]
     },
     "execution_count": 5,
     "metadata": {},
     "output_type": "execute_result"
    }
   ],
   "source": [
    "type(data)"
   ]
  },
  {
   "cell_type": "code",
   "execution_count": 6,
   "metadata": {
    "scrolled": false
   },
   "outputs": [
    {
     "data": {
      "text/plain": [
       "'_uuid'"
      ]
     },
     "execution_count": 6,
     "metadata": {},
     "output_type": "execute_result"
    }
   ],
   "source": [
    "data[0]['name']"
   ]
  },
  {
   "cell_type": "code",
   "execution_count": 7,
   "metadata": {},
   "outputs": [
    {
     "data": {
      "text/plain": [
       "'.bilibili.com'"
      ]
     },
     "execution_count": 7,
     "metadata": {},
     "output_type": "execute_result"
    }
   ],
   "source": [
    "data[0]['domain']"
   ]
  },
  {
   "cell_type": "code",
   "execution_count": 8,
   "metadata": {},
   "outputs": [
    {
     "data": {
      "text/plain": [
       "14"
      ]
     },
     "execution_count": 8,
     "metadata": {},
     "output_type": "execute_result"
    }
   ],
   "source": [
    "len(data)"
   ]
  },
  {
   "cell_type": "code",
   "execution_count": 9,
   "metadata": {
    "scrolled": true
   },
   "outputs": [
    {
     "name": "stdout",
     "output_type": "stream",
     "text": [
      "{'domain': '.bilibili.com', 'expirationDate': 1643810333, 'hostOnly': False, 'httpOnly': False, 'name': '_uuid', 'path': '/', 'sameSite': 'unspecified', 'secure': False, 'session': False, 'storeId': '0', 'value': '978462A1-1F17-4713-CD71-FF0C711B51AA33040infoc', 'id': 1}\n",
      "{'domain': '.bilibili.com', 'expirationDate': 1643810338, 'hostOnly': False, 'httpOnly': False, 'name': 'buvid_fp', 'path': '/', 'sameSite': 'unspecified', 'secure': False, 'session': False, 'storeId': '0', 'value': '201B1B1E-0834-41BA-9562-957E7468D1A018541infoc', 'id': 4}\n",
      "{'domain': '.bilibili.com', 'expirationDate': 1644327362, 'hostOnly': False, 'httpOnly': False, 'name': 'CURRENT_FNVAL', 'path': '/', 'sameSite': 'unspecified', 'secure': False, 'session': False, 'storeId': '0', 'value': '80', 'id': 7}\n",
      "{'domain': '.bilibili.com', 'expirationDate': 1643810338, 'hostOnly': False, 'httpOnly': False, 'name': 'fingerprint', 'path': '/', 'sameSite': 'unspecified', 'secure': False, 'session': False, 'storeId': '0', 'value': '27a8c4517d3bbc065801973918a9881a', 'id': 10}\n",
      "{'domain': '.bilibili.com', 'expirationDate': 1627825372.409155, 'hostOnly': False, 'httpOnly': True, 'name': 'SESSDATA', 'path': '/', 'sameSite': 'unspecified', 'secure': False, 'session': False, 'storeId': '0', 'value': 'ee4b1f53%2C1627826372%2Cecb0d%2A21', 'id': 13}\n"
     ]
    }
   ],
   "source": [
    "for i in range(0,len(data),3):\n",
    "    print(data[i])"
   ]
  },
  {
   "cell_type": "code",
   "execution_count": 10,
   "metadata": {},
   "outputs": [],
   "source": [
    "json_data = data[0]"
   ]
  },
  {
   "cell_type": "code",
   "execution_count": 11,
   "metadata": {},
   "outputs": [],
   "source": [
    "with open('cookie_rewrite.json','w', encoding='utf-8') as f:\n",
    "    json.dump(json_data, f, indent=0)"
   ]
  },
  {
   "cell_type": "code",
   "execution_count": null,
   "metadata": {},
   "outputs": [],
   "source": []
  }
 ],
 "metadata": {
  "kernelspec": {
   "display_name": "Python 3",
   "language": "python",
   "name": "python3"
  },
  "language_info": {
   "codemirror_mode": {
    "name": "ipython",
    "version": 3
   },
   "file_extension": ".py",
   "mimetype": "text/x-python",
   "name": "python",
   "nbconvert_exporter": "python",
   "pygments_lexer": "ipython3",
   "version": "3.8.12"
  },
  "latex_envs": {
   "LaTeX_envs_menu_present": true,
   "autoclose": false,
   "autocomplete": false,
   "bibliofile": "biblio.bib",
   "cite_by": "apalike",
   "current_citInitial": 1,
   "eqLabelWithNumbers": true,
   "eqNumInitial": 1,
   "hotkeys": {
    "equation": "Ctrl-E",
    "itemize": "Ctrl-I"
   },
   "labels_anchors": false,
   "latex_user_defs": false,
   "report_style_numbering": false,
   "user_envs_cfg": false
  }
 },
 "nbformat": 4,
 "nbformat_minor": 4
}
