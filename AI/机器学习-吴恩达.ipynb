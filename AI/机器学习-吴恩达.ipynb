{
 "cells": [
  {
   "cell_type": "markdown",
   "id": "opponent-external",
   "metadata": {},
   "source": [
    "# 机器学习"
   ]
  },
  {
   "cell_type": "markdown",
   "id": "impressive-functionality",
   "metadata": {},
   "source": [
    "## 监督学习 Supervised Learning Algorithm\n",
    "\n",
    "- 回归问题 `Regression`\n",
    "    \n",
    "    适用于连续问题，根据已知数据回归拟合，预测问题\n",
    "\n",
    "\n",
    "- 分类问题 `Classification`\n",
    "    \n",
    "    适用于离散问题，可分为0，1，2，3，...问题"
   ]
  },
  {
   "cell_type": "markdown",
   "id": "raising-outreach",
   "metadata": {},
   "source": [
    "### 线性回归问题"
   ]
  },
  {
   "cell_type": "markdown",
   "id": "consistent-spanish",
   "metadata": {},
   "source": [
    "![image.png](wnd/01.png)"
   ]
  },
  {
   "cell_type": "markdown",
   "id": "spare-driver",
   "metadata": {},
   "source": [
    "训练集，假设函数(h, hypothesis function), m(训练样本数量）\n",
    "\n",
    "假设函数（hypothesis function）  $$h_\\theta(x)=\\theta_0+\\theta_1x $$\n",
    "\n",
    "参数（parameter）：$$\\theta_0 , \\theta_1$$\n",
    "\n",
    "代价函数（成本函数， cost function）：  $$J(\\theta_0, \\theta_1) = \\frac1{2m}\\sum_{i=1}^m[h_\\theta(x^{(i)})-y^{(i)}]^2$$\n",
    "\n",
    "目标（Goal）：$$\\min_{\\theta_0, \\theta_1}J(\\theta_0, \\theta_1)$$"
   ]
  },
  {
   "cell_type": "markdown",
   "id": "stable-machine",
   "metadata": {},
   "source": [
    "## 无监督学习 Unsupervised Learning Algorithm\n",
    "\n",
    "- 聚类算法 clustering algorithm\n",
    "\n",
    "适用于无确定标签，机器学习可以将其分为不同的簇（cluster）\n",
    "\n",
    " - 鸡尾酒会问题\n",
    " "
   ]
  },
  {
   "cell_type": "code",
   "execution_count": null,
   "id": "collect-valley",
   "metadata": {},
   "outputs": [],
   "source": []
  }
 ],
 "metadata": {
  "kernelspec": {
   "display_name": "Python 3",
   "language": "python",
   "name": "python3"
  },
  "language_info": {
   "codemirror_mode": {
    "name": "ipython",
    "version": 3
   },
   "file_extension": ".py",
   "mimetype": "text/x-python",
   "name": "python",
   "nbconvert_exporter": "python",
   "pygments_lexer": "ipython3",
   "version": "3.8.5"
  },
  "latex_envs": {
   "LaTeX_envs_menu_present": true,
   "autoclose": true,
   "autocomplete": true,
   "bibliofile": "biblio.bib",
   "cite_by": "apalike",
   "current_citInitial": 1,
   "eqLabelWithNumbers": true,
   "eqNumInitial": 1,
   "hotkeys": {
    "equation": "Ctrl-E",
    "itemize": "Ctrl-I"
   },
   "labels_anchors": false,
   "latex_user_defs": false,
   "report_style_numbering": false,
   "user_envs_cfg": false
  }
 },
 "nbformat": 4,
 "nbformat_minor": 5
}
