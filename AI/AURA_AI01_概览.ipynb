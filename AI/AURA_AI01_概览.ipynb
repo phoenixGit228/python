{
 "cells": [
  {
   "cell_type": "markdown",
   "id": "sound-holmes",
   "metadata": {},
   "source": [
    "# 什么是AI？"
   ]
  },
  {
   "cell_type": "markdown",
   "id": "moderate-slovenia",
   "metadata": {},
   "source": [
    "人工智能（ARTIFICIAL INTELLIGENCE），简称AI，就是让机器模拟和扩展人的智能，提升生产力。它是研究、开发用于模拟、延伸和扩展人的智能的理论、方法、技术及应用系统的一门新的技术科学。人工智能是计算机科学的一个分支，它企图了解智能的实质，并生产出一种新的能以人类智能相似的方式做出反应的智能机器。\n",
    "\n",
    "人工智能的本质是获取知识、使用知识达到目的的通用能力，旨在使机器具备人类智能的素质，并在某些领域超越人类的能力\n",
    "\n",
    "那么，广义上的人工智能指利用数字计算机或数字计算控制的，用于模拟、延伸和扩展人的智能，感知环境、获取知识并使用知识获得最佳结果的理论、方法、技术及应用系统的一门新的技术科学。\n",
    "\n",
    "人工智能的黄金三角是 ：算法，算力，数据。\n",
    "\n",
    "算法只是其中一角，人工智能算一个大的领域吧，算法是里面实践的东西，这三角，缺一不可，而算法是核心\n",
    "\n",
    "不过从目前人工智能的发展阶段来说，我们目前是处于弱人工智能阶段。\n",
    "\n",
    "大家可以参考下图，看看人工智能的发展路线是怎么样的"
   ]
  },
  {
   "cell_type": "markdown",
   "id": "monetary-bridges",
   "metadata": {},
   "source": [
    "![AI_1](pic/AI_1.png)"
   ]
  },
  {
   "cell_type": "markdown",
   "id": "conventional-stock",
   "metadata": {},
   "source": [
    "从技术演进的角度来看：\n",
    "\n",
    "可以总结为：感知，认知，推理、决策、行动\n",
    "\n",
    "感知是指：计算机视觉、计算机听觉\n",
    "\n",
    "认知，就是指自然语言处理\n",
    "\n",
    "推理、决策、行动，这个里面涵盖的范围就比较广了。看具体是什么应用场景，比如智能推荐。\n",
    "\n",
    "现在的人工智能这么火，国家也在大力的支持，那么大家觉得为什么人工智能很重要呢？"
   ]
  },
  {
   "cell_type": "markdown",
   "id": "fallen-condition",
   "metadata": {},
   "source": [
    "![AI_2](pic/AI_2.png)"
   ]
  },
  {
   "cell_type": "markdown",
   "id": "destroyed-premiere",
   "metadata": {},
   "source": [
    "从图中，我们可以看出，不论哪个国家，现在都把人工智能作为国家战略了，包括美国，日本，韩国，欧洲，当然也包括中国\n",
    "\n",
    "另外一点的话，现在大家都听说的新基建，尤其是今年的疫情，基建这一词，也特别的火，大家有想过基建和AI有什么关系吗？\n",
    "\n",
    "人工智能是新基建里面的“新技术基础设施”。\n",
    "\n",
    "08年经济危机，国家推出了4万亿，大家可能都听过。\n",
    "\n",
    "20年的新冠疫情，国家推出了新基建，这里据说可能就是几十万亿。\n",
    "\n",
    "其实新基建的概念在疫情之前就有，只是没那么大力度去推。但是疫情以来，国家为了刺激经济，就更大力来推了，所以机会比较大"
   ]
  },
  {
   "cell_type": "markdown",
   "id": "drawn-purchase",
   "metadata": {},
   "source": [
    "![image](pic/AI_3.png)"
   ]
  },
  {
   "cell_type": "markdown",
   "id": "stupid-audit",
   "metadata": {},
   "source": [
    "感觉得很幸运，也刚好是踩到了人工智能的点，各行各业里面其实都可以跟AI相关，毕竟AI也是一个“新技术基础设施”。\n",
    "\n",
    "那在大家的认知里面，人工智能的研究领域都有哪些呢？"
   ]
  },
  {
   "cell_type": "markdown",
   "id": "recent-insulin",
   "metadata": {},
   "source": [
    "![image](pic/AI_4.png)"
   ]
  },
  {
   "cell_type": "markdown",
   "id": "strange-boost",
   "metadata": {},
   "source": [
    "大家请看上图，人工智能的应用领域大致可以分为这四大领域\n",
    "\n",
    "也是我们以后可以从事的领域，从图中也可以看出，我们需要学习哪些东西\n",
    "\n",
    "在最后，带领大家，我们一起来探讨下人工智能目前在行业有哪些应用   看图"
   ]
  },
  {
   "cell_type": "markdown",
   "id": "fallen-worker",
   "metadata": {},
   "source": [
    "![image](pic/AI_5.png)"
   ]
  },
  {
   "cell_type": "markdown",
   "id": "selected-modification",
   "metadata": {},
   "source": [
    "根据上图中，像身份证认证，这里就是用到了我们的OCR识别\n",
    "\n",
    "另外身份证的识别，也不只是用到了OCR的文字识别，也用到了目标检测"
   ]
  },
  {
   "cell_type": "markdown",
   "id": "stupid-spotlight",
   "metadata": {},
   "source": [
    "![image.png](pic/AI_6.png)"
   ]
  },
  {
   "cell_type": "markdown",
   "id": "expired-medication",
   "metadata": {},
   "source": [
    "![image.png](pic/AI_7.png)"
   ]
  },
  {
   "cell_type": "markdown",
   "id": "blind-architecture",
   "metadata": {},
   "source": [
    "![image.png](pic/AI_8.png)"
   ]
  }
 ],
 "metadata": {
  "kernelspec": {
   "display_name": "Python 3",
   "language": "python",
   "name": "python3"
  },
  "language_info": {
   "codemirror_mode": {
    "name": "ipython",
    "version": 3
   },
   "file_extension": ".py",
   "mimetype": "text/x-python",
   "name": "python",
   "nbconvert_exporter": "python",
   "pygments_lexer": "ipython3",
   "version": "3.8.5"
  },
  "latex_envs": {
   "LaTeX_envs_menu_present": true,
   "autoclose": true,
   "autocomplete": true,
   "bibliofile": "biblio.bib",
   "cite_by": "apalike",
   "current_citInitial": 1,
   "eqLabelWithNumbers": true,
   "eqNumInitial": 1,
   "hotkeys": {
    "equation": "Ctrl-E",
    "itemize": "Ctrl-I"
   },
   "labels_anchors": false,
   "latex_user_defs": false,
   "report_style_numbering": false,
   "user_envs_cfg": false
  }
 },
 "nbformat": 4,
 "nbformat_minor": 5
}
